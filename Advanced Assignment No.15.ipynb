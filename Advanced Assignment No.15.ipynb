{
 "cells": [
  {
   "cell_type": "markdown",
   "id": "eeaa8d81",
   "metadata": {},
   "source": [
    "1) What are the new features added in Python 3.8 version?\n",
    "\n",
    ":- Allows use of assignment operator & equal sign(=) inside the f-string."
   ]
  },
  {
   "cell_type": "markdown",
   "id": "8952f5a3",
   "metadata": {},
   "source": [
    "2) What is monkey patching in Python?\n",
    "\n",
    ":- It refers to dynamic(or run time) modification of a class or module. "
   ]
  },
  {
   "cell_type": "markdown",
   "id": "a82400a1",
   "metadata": {},
   "source": [
    "3) What is the difference between a shallow copy and deep copy?\n",
    "\n",
    ":- A shallow copy constructs a new compound object and then (to the extent possible) inserts references into it to the       objects found in the original. A deep copy constructs a new compound object and then, recursively, inserts \n",
    "  copies into it of the objects found in the original."
   ]
  },
  {
   "cell_type": "markdown",
   "id": "a67063ab",
   "metadata": {},
   "source": [
    "4) What is the maximum possible length of an identifier?\n",
    "\n",
    ":- Identifier are of any length. Identifier must not extend 31 character, so maximum length of identifier is 31\n",
    "   character. "
   ]
  },
  {
   "cell_type": "markdown",
   "id": "182cb71d",
   "metadata": {},
   "source": [
    "5) What is generator comprehension?\n",
    "\n",
    ":- It is single-line specification for defining a generator in python. "
   ]
  }
 ],
 "metadata": {
  "kernelspec": {
   "display_name": "Python 3 (ipykernel)",
   "language": "python",
   "name": "python3"
  },
  "language_info": {
   "codemirror_mode": {
    "name": "ipython",
    "version": 3
   },
   "file_extension": ".py",
   "mimetype": "text/x-python",
   "name": "python",
   "nbconvert_exporter": "python",
   "pygments_lexer": "ipython3",
   "version": "3.9.7"
  }
 },
 "nbformat": 4,
 "nbformat_minor": 5
}
